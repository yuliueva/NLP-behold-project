{
 "cells": [
  {
   "cell_type": "markdown",
   "metadata": {
    "toc": true
   },
   "source": [
    "<h1>Create Tags/Features<span class=\"tocSkip\"></span></h1>\n",
    "<div class=\"toc\"><ul class=\"toc-item\"><li><span><a href=\"#Loading-Libraries\" data-toc-modified-id=\"Loading-Libraries-1\"><span class=\"toc-item-num\">1&nbsp;&nbsp;</span>Loading Libraries</a></span></li><li><span><a href=\"#Define-Functions\" data-toc-modified-id=\"Define-Functions-2\"><span class=\"toc-item-num\">2&nbsp;&nbsp;</span>Define Functions</a></span></li><li><span><a href=\"#Load-Data\" data-toc-modified-id=\"Load-Data-3\"><span class=\"toc-item-num\">3&nbsp;&nbsp;</span>Load Data</a></span></li><li><span><a href=\"#Text-Preprocessing-(combine,-clean-and-lemmatize-data/columns)\" data-toc-modified-id=\"Text-Preprocessing-(combine,-clean-and-lemmatize-data/columns)-4\"><span class=\"toc-item-num\">4&nbsp;&nbsp;</span>Text Preprocessing (combine, clean and lemmatize data/columns)</a></span><ul class=\"toc-item\"><li><span><a href=\"#Check-Dataset\" data-toc-modified-id=\"Check-Dataset-4.1\"><span class=\"toc-item-num\">4.1&nbsp;&nbsp;</span>Check Dataset</a></span></li><li><span><a href=\"#Combine-Product-and-Additional_tags-(look-for-patterns-for-attribute_category)\" data-toc-modified-id=\"Combine-Product-and-Additional_tags-(look-for-patterns-for-attribute_category)-4.2\"><span class=\"toc-item-num\">4.2&nbsp;&nbsp;</span>Combine Product and Additional_tags (look for patterns for attribute_category)</a></span></li><li><span><a href=\"#Combine-Columns-for-Extracting-Tags\" data-toc-modified-id=\"Combine-Columns-for-Extracting-Tags-4.3\"><span class=\"toc-item-num\">4.3&nbsp;&nbsp;</span>Combine Columns for Extracting Tags</a></span><ul class=\"toc-item\"><li><span><a href=\"#For-category-(first-priority)\" data-toc-modified-id=\"For-category-(first-priority)-4.3.1\"><span class=\"toc-item-num\">4.3.1&nbsp;&nbsp;</span>For category (first priority)</a></span><ul class=\"toc-item\"><li><span><a href=\"#Combine-brand_category-and-name-columns\" data-toc-modified-id=\"Combine-brand_category-and-name-columns-4.3.1.1\"><span class=\"toc-item-num\">4.3.1.1&nbsp;&nbsp;</span>Combine <code>brand_category</code> and <code>name</code> columns</a></span></li><li><span><a href=\"#Clean-the-combined-column\" data-toc-modified-id=\"Clean-the-combined-column-4.3.1.2\"><span class=\"toc-item-num\">4.3.1.2&nbsp;&nbsp;</span>Clean the combined column</a></span></li></ul></li><li><span><a href=\"#For-catgeory-(second-priority)-and-other-tags\" data-toc-modified-id=\"For-catgeory-(second-priority)-and-other-tags-4.3.2\"><span class=\"toc-item-num\">4.3.2&nbsp;&nbsp;</span>For catgeory (second priority) and other tags</a></span><ul class=\"toc-item\"><li><span><a href=\"#Make-location-tokens\" data-toc-modified-id=\"Make-location-tokens-4.3.2.1\"><span class=\"toc-item-num\">4.3.2.1&nbsp;&nbsp;</span>Make location tokens</a></span></li><li><span><a href=\"#Combine-brand_category,-name-,-details-,description,-brand_name-columns,-and-clean-the-combined-column\" data-toc-modified-id=\"Combine-brand_category,-name-,-details-,description,-brand_name-columns,-and-clean-the-combined-column-4.3.2.2\"><span class=\"toc-item-num\">4.3.2.2&nbsp;&nbsp;</span>Combine <code>brand_category</code>, <code>name</code> , <code>details</code> ,<code>description</code>, <code>brand_name</code> columns, and clean the combined column</a></span></li></ul></li></ul></li></ul></li><li><span><a href=\"#Major-Feature-Processing\" data-toc-modified-id=\"Major-Feature-Processing-5\"><span class=\"toc-item-num\">5&nbsp;&nbsp;</span>Major Feature Processing</a></span><ul class=\"toc-item\"><li><span><a href=\"#Category\" data-toc-modified-id=\"Category-5.1\"><span class=\"toc-item-num\">5.1&nbsp;&nbsp;</span>Category</a></span><ul class=\"toc-item\"><li><span><a href=\"#Define-Pattern-for-Each-Category\" data-toc-modified-id=\"Define-Pattern-for-Each-Category-5.1.1\"><span class=\"toc-item-num\">5.1.1&nbsp;&nbsp;</span>Define Pattern for Each Category</a></span></li><li><span><a href=\"#Find-Detailed-Category---One/Multiple-for-Each-Product\" data-toc-modified-id=\"Find-Detailed-Category---One/Multiple-for-Each-Product-5.1.2\"><span class=\"toc-item-num\">5.1.2&nbsp;&nbsp;</span>Find Detailed Category - One/Multiple for Each Product</a></span></li><li><span><a href=\"#Find-General-Category---Only-One-for-Each-Product\" data-toc-modified-id=\"Find-General-Category---Only-One-for-Each-Product-5.1.3\"><span class=\"toc-item-num\">5.1.3&nbsp;&nbsp;</span>Find General Category - Only One for Each Product</a></span></li></ul></li><li><span><a href=\"#Gender\" data-toc-modified-id=\"Gender-5.2\"><span class=\"toc-item-num\">5.2&nbsp;&nbsp;</span>Gender</a></span></li><li><span><a href=\"#Season\" data-toc-modified-id=\"Season-5.3\"><span class=\"toc-item-num\">5.3&nbsp;&nbsp;</span>Season</a></span></li><li><span><a href=\"#Other-Tags\" data-toc-modified-id=\"Other-Tags-5.4\"><span class=\"toc-item-num\">5.4&nbsp;&nbsp;</span>Other Tags</a></span></li><li><span><a href=\"#Create-a-column-for-all-the-features\" data-toc-modified-id=\"Create-a-column-for-all-the-features-5.5\"><span class=\"toc-item-num\">5.5&nbsp;&nbsp;</span>Create a column for all the features</a></span></li></ul></li><li><span><a href=\"#Final-data\" data-toc-modified-id=\"Final-data-6\"><span class=\"toc-item-num\">6&nbsp;&nbsp;</span>Final data</a></span></li></ul></div>"
   ]
  },
  {
   "cell_type": "markdown",
   "metadata": {},
   "source": [
    "We used the above steps to created tags and features. **Please run this notebook to create tags and features**. Those tags will be helpful for our model and recommendation function."
   ]
  },
  {
   "cell_type": "markdown",
   "metadata": {
    "heading_collapsed": true
   },
   "source": [
    "# Loading Libraries"
   ]
  },
  {
   "cell_type": "code",
   "execution_count": 1,
   "metadata": {
    "ExecuteTime": {
     "end_time": "2021-05-11T14:55:53.945217Z",
     "start_time": "2021-05-11T14:55:53.928599Z"
    },
    "hidden": true
   },
   "outputs": [],
   "source": [
    "import pandas as pd\n",
    "import numpy as np\n",
    "import matplotlib.pyplot as plt\n",
    "import re\n",
    "import collections\n",
    "from collections import Counter\n",
    "import nltk\n",
    "from nltk.tokenize import sent_tokenize, word_tokenize\n",
    "from nltk.stem import WordNetLemmatizer\n",
    "from nltk.stem import PorterStemmer \n",
    "from nltk.corpus import stopwords, wordnet\n",
    "from IPython.display import Markdown, display\n",
    "import copy\n",
    "import nltk\n",
    "#nltk.download('averaged_perceptron_tagger')"
   ]
  },
  {
   "cell_type": "markdown",
   "metadata": {
    "heading_collapsed": true
   },
   "source": [
    "# Define Functions"
   ]
  },
  {
   "cell_type": "code",
   "execution_count": 2,
   "metadata": {
    "ExecuteTime": {
     "end_time": "2021-05-11T14:39:37.141358Z",
     "start_time": "2021-05-11T14:39:37.121677Z"
    },
    "hidden": true
   },
   "outputs": [],
   "source": [
    "# reference: https://gist.github.com/gaurav5430/9fce93759eb2f6b1697883c3782f30de#file-nltk-lemmatize-sentences-py\n",
    "lemmatizer = WordNetLemmatizer()\n",
    "\n",
    "# function to convert nltk tag to wordnet tag\n",
    "def nltk_tag_to_wordnet_tag(nltk_tag):\n",
    "    if nltk_tag.startswith('J'):\n",
    "        return wordnet.ADJ\n",
    "    elif nltk_tag.startswith('V'):\n",
    "        return wordnet.VERB\n",
    "    elif nltk_tag.startswith('N'):\n",
    "        return wordnet.NOUN\n",
    "    elif nltk_tag.startswith('R'):\n",
    "        return wordnet.ADV\n",
    "    else:\n",
    "        return None\n",
    "\n",
    "def lemmatize_sentence(sentence):\n",
    "    # tokenize the sentence and find the POS tag for each token\n",
    "    nltk_tagged = nltk.pos_tag(word_tokenize(sentence))\n",
    "    # tuple of (token, wordnet_tag)\n",
    "    wordnet_tagged = map(lambda x: (\n",
    "        x[0], nltk_tag_to_wordnet_tag(x[1])), nltk_tagged)\n",
    "    lemmatized_sentence = []\n",
    "    for word, tag in wordnet_tagged:\n",
    "        if tag is None:\n",
    "            # if there is no available tag, append the token as is\n",
    "            lemmatized_sentence.append(word)\n",
    "        else:\n",
    "            # else use the tag to lemmatize the token\n",
    "            lemmatized_sentence.append(lemmatizer.lemmatize(word, tag))\n",
    "    return ' '.join(lemmatized_sentence)"
   ]
  },
  {
   "cell_type": "code",
   "execution_count": 3,
   "metadata": {
    "ExecuteTime": {
     "end_time": "2021-05-11T14:39:39.588965Z",
     "start_time": "2021-05-11T14:39:39.572815Z"
    },
    "hidden": true
   },
   "outputs": [],
   "source": [
    "# reference https://www.codenong.com/2277352/\n",
    "from collections import Counter\n",
    "\n",
    "#split words by uppercase, for example, flatShoe --> flat Shoe\n",
    "def split_on_uppercase(s, keep_contiguous=False):\n",
    "    string_length = len(s)\n",
    "    is_lower_around = (lambda: s[i-1].islower() or\n",
    "                       string_length > (i + 1) and s[i + 1].islower())\n",
    "    start = 0\n",
    "    parts = []\n",
    "    for i in range(1, string_length):\n",
    "        if s[i].isupper() and (not keep_contiguous or is_lower_around()):\n",
    "            parts.append(s[start: i])\n",
    "            start = i\n",
    "    parts.append(s[start:])\n",
    "\n",
    "    return ' '.join(parts)\n",
    "\n",
    "# count words frequency\n",
    "def count_words(lines, delimiter=\" \"):\n",
    "    words = Counter()\n",
    "\n",
    "    for line in lines:\n",
    "        for word in line.split(delimiter):\n",
    "            words[word] += 1 \n",
    "\n",
    "    return words"
   ]
  },
  {
   "cell_type": "markdown",
   "metadata": {
    "heading_collapsed": true
   },
   "source": [
    "# Load Data"
   ]
  },
  {
   "cell_type": "code",
   "execution_count": 4,
   "metadata": {
    "ExecuteTime": {
     "end_time": "2021-05-11T14:39:55.614156Z",
     "start_time": "2021-05-11T14:39:41.942021Z"
    },
    "hidden": true
   },
   "outputs": [],
   "source": [
    "product_data = pd.read_excel('Behold+product+data+04262021.xlsx')\n",
    "tags_data = pd.read_csv('usc_additional_tags USC.csv')"
   ]
  },
  {
   "cell_type": "markdown",
   "metadata": {
    "heading_collapsed": true
   },
   "source": [
    "# Text Preprocessing (combine, clean and lemmatize data/columns)"
   ]
  },
  {
   "cell_type": "markdown",
   "metadata": {
    "heading_collapsed": true,
    "hidden": true
   },
   "source": [
    "## Check Dataset"
   ]
  },
  {
   "cell_type": "markdown",
   "metadata": {
    "hidden": true
   },
   "source": [
    "Drop useless columns in product dataset"
   ]
  },
  {
   "cell_type": "code",
   "execution_count": 5,
   "metadata": {
    "ExecuteTime": {
     "end_time": "2021-05-11T14:40:00.139060Z",
     "start_time": "2021-05-11T14:40:00.131498Z"
    },
    "hidden": true
   },
   "outputs": [],
   "source": [
    "product_drop=['brand_canonical_url','created_at','brand_description','product_active']"
   ]
  },
  {
   "cell_type": "code",
   "execution_count": 6,
   "metadata": {
    "ExecuteTime": {
     "end_time": "2021-05-11T14:40:34.290125Z",
     "start_time": "2021-05-11T14:40:34.271545Z"
    },
    "hidden": true
   },
   "outputs": [],
   "source": [
    "product_data_dropped=product_data.drop(columns=product_drop)\n",
    "product = copy.deepcopy(product_data_dropped)"
   ]
  },
  {
   "cell_type": "markdown",
   "metadata": {
    "hidden": true
   },
   "source": [
    "Check if there is a duplicated product"
   ]
  },
  {
   "cell_type": "code",
   "execution_count": 7,
   "metadata": {
    "ExecuteTime": {
     "end_time": "2021-05-11T14:40:57.116967Z",
     "start_time": "2021-05-11T14:40:57.070092Z"
    },
    "hidden": true
   },
   "outputs": [
    {
     "data": {
      "text/plain": [
       "0"
      ]
     },
     "execution_count": 7,
     "metadata": {},
     "output_type": "execute_result"
    }
   ],
   "source": [
    "product.duplicated('product_id').sum()"
   ]
  },
  {
   "cell_type": "markdown",
   "metadata": {
    "hidden": true
   },
   "source": [
    "Check different types of tags"
   ]
  },
  {
   "cell_type": "code",
   "execution_count": 8,
   "metadata": {
    "ExecuteTime": {
     "end_time": "2021-05-11T14:41:01.273771Z",
     "start_time": "2021-05-11T14:41:01.260223Z"
    },
    "hidden": true
   },
   "outputs": [
    {
     "data": {
      "text/plain": [
       "array(['materialclothing', 'style', 'primarycolor', 'uppermaterial',\n",
       "       'wash', 'trend', 'pattern', 'additionalcolor', 'material',\n",
       "       'materialpurse', 'strapmaterial', 'print', 'color',\n",
       "       'beltbucklematerial', 'beltmaterial', 'sunglassframematerial',\n",
       "       'occasion', 'category', 'sizing', 'lengthtop', 'fit',\n",
       "       'subcategorytop', 'neckline', 'gender', 'embellishment',\n",
       "       'sleevelength', 'drycleanonly', 'classsneakersandathletic',\n",
       "       'subcategoryshoe', 'toestyle', 'shoewidth', 'toeexposure',\n",
       "       'closureshoe', 'lengthcoatsandjackets',\n",
       "       'classblazerscoatsandjackets', 'closureblazerscoatsandjackets',\n",
       "       'subcategoryblazerscoatsandjackets', 'classdress',\n",
       "       'lengthonepiece', 'subcategoryonepiece', 'closureonepiece',\n",
       "       'lengthpantsandleggings', 'closurepantsandleggings',\n",
       "       'classpantsandleggings', 'legstyle', 'rise', 'subcategorybottom',\n",
       "       'strap', 'lengthblazers', 'lengthskirts', 'classskirts',\n",
       "       'closureskirts', 'closuretop', 'subcategoryaccessory',\n",
       "       'closurehandbag', 'classhandbags', 'subcategorysweater', 'sheer',\n",
       "       'subcategorysweatshirtandhoodie', 'shaftheight', 'calfwidth',\n",
       "       'classboots', 'heelshape', 'heelheight',\n",
       "       'lengthblazerscoatsandjackets', 'classjumpsuitandromper',\n",
       "       'classsandals', 'lengthshorts', 'classshorts', 'risejeans',\n",
       "       'legstylejeans', 'lengthjeans', 'closureshorts',\n",
       "       'classmulesandslides', 'classbooties', 'classpumpsandheels',\n",
       "       'closuresweater', 'classflats', 'classsunglasses',\n",
       "       'beltbuckleshape', 'beltclosure', 'classbelts',\n",
       "       'sweatshirtandhoodieclosure', 'classwedges', 'classslippers',\n",
       "       'beltwidth'], dtype=object)"
      ]
     },
     "execution_count": 8,
     "metadata": {},
     "output_type": "execute_result"
    }
   ],
   "source": [
    "tags_data['attribute_name'].unique()"
   ]
  },
  {
   "cell_type": "markdown",
   "metadata": {
    "hidden": true
   },
   "source": [
    "Create dataframe for attribute_category"
   ]
  },
  {
   "cell_type": "code",
   "execution_count": 9,
   "metadata": {
    "ExecuteTime": {
     "end_time": "2021-05-11T14:41:05.634329Z",
     "start_time": "2021-05-11T14:41:05.620852Z"
    },
    "hidden": true
   },
   "outputs": [],
   "source": [
    "category = tags_data[tags_data.attribute_name == 'category'].drop(\n",
    "    columns=['product_color_id', \"attribute_name\"]).rename(columns={\"attribute_value\": \"attribute_category\"})\n",
    "category = category.drop_duplicates()"
   ]
  },
  {
   "cell_type": "code",
   "execution_count": 10,
   "metadata": {
    "ExecuteTime": {
     "end_time": "2021-05-11T14:41:07.666184Z",
     "start_time": "2021-05-11T14:41:07.652187Z"
    },
    "hidden": true
   },
   "outputs": [
    {
     "data": {
      "text/html": [
       "<div>\n",
       "<style scoped>\n",
       "    .dataframe tbody tr th:only-of-type {\n",
       "        vertical-align: middle;\n",
       "    }\n",
       "\n",
       "    .dataframe tbody tr th {\n",
       "        vertical-align: top;\n",
       "    }\n",
       "\n",
       "    .dataframe thead th {\n",
       "        text-align: right;\n",
       "    }\n",
       "</style>\n",
       "<table border=\"1\" class=\"dataframe\">\n",
       "  <thead>\n",
       "    <tr style=\"text-align: right;\">\n",
       "      <th></th>\n",
       "      <th>product_id</th>\n",
       "      <th>attribute_category</th>\n",
       "    </tr>\n",
       "  </thead>\n",
       "  <tbody>\n",
       "    <tr>\n",
       "      <th>31581</th>\n",
       "      <td>01E2P1MQS0GQ4SE93SY68ZYMCC</td>\n",
       "      <td>top</td>\n",
       "    </tr>\n",
       "    <tr>\n",
       "      <th>31608</th>\n",
       "      <td>01E2P2QPCCQAN8WCHQKZY7EG73</td>\n",
       "      <td>top</td>\n",
       "    </tr>\n",
       "    <tr>\n",
       "      <th>31643</th>\n",
       "      <td>01E2P2Q2WXXD75B1F4JCAKC99D</td>\n",
       "      <td>shoe</td>\n",
       "    </tr>\n",
       "    <tr>\n",
       "      <th>31660</th>\n",
       "      <td>01E2P2H91R6WK2PX6Z8RND9T6X</td>\n",
       "      <td>shoe</td>\n",
       "    </tr>\n",
       "    <tr>\n",
       "      <th>31669</th>\n",
       "      <td>01E2P2J1R17TVKRH3WTNN585C1</td>\n",
       "      <td>shoe</td>\n",
       "    </tr>\n",
       "  </tbody>\n",
       "</table>\n",
       "</div>"
      ],
      "text/plain": [
       "                       product_id attribute_category\n",
       "31581  01E2P1MQS0GQ4SE93SY68ZYMCC                top\n",
       "31608  01E2P2QPCCQAN8WCHQKZY7EG73                top\n",
       "31643  01E2P2Q2WXXD75B1F4JCAKC99D               shoe\n",
       "31660  01E2P2H91R6WK2PX6Z8RND9T6X               shoe\n",
       "31669  01E2P2J1R17TVKRH3WTNN585C1               shoe"
      ]
     },
     "execution_count": 10,
     "metadata": {},
     "output_type": "execute_result"
    }
   ],
   "source": [
    "category.head()"
   ]
  },
  {
   "cell_type": "markdown",
   "metadata": {
    "heading_collapsed": true,
    "hidden": true
   },
   "source": [
    "## Combine Product and Additional_tags (look for patterns for attribute_category)\n",
    "\n",
    "This part is only for checking patterns for each category.\n",
    "\n",
    "- Create a combined DataFrame by merging category data (from additional_tags dataset) and product dataset.\n",
    "- We can use this combined DataFrame to compare product information and categories, and find the patterns for each attribute_category."
   ]
  },
  {
   "cell_type": "code",
   "execution_count": 11,
   "metadata": {
    "ExecuteTime": {
     "end_time": "2021-05-11T14:41:23.731829Z",
     "start_time": "2021-05-11T14:41:23.670574Z"
    },
    "hidden": true
   },
   "outputs": [],
   "source": [
    "combined=pd.merge(product, category, how='left', on='product_id')"
   ]
  },
  {
   "cell_type": "code",
   "execution_count": 12,
   "metadata": {
    "ExecuteTime": {
     "end_time": "2021-05-11T14:41:24.970057Z",
     "start_time": "2021-05-11T14:41:24.932108Z"
    },
    "hidden": true
   },
   "outputs": [
    {
     "data": {
      "text/plain": [
       "7"
      ]
     },
     "execution_count": 12,
     "metadata": {},
     "output_type": "execute_result"
    }
   ],
   "source": [
    "# find duplicated product after combination\n",
    "combined.duplicated('product_id').sum()"
   ]
  },
  {
   "cell_type": "code",
   "execution_count": 13,
   "metadata": {
    "ExecuteTime": {
     "end_time": "2021-05-11T14:41:30.577994Z",
     "start_time": "2021-05-11T14:41:30.442981Z"
    },
    "hidden": true
   },
   "outputs": [],
   "source": [
    "# combine attribute_category to remove duplicated products\n",
    "combined=combined.drop([58047])\n",
    "combined.loc[57814,'attribute_category']='top sweatshirt'\n",
    "combined=combined.drop([57815])\n",
    "combined=combined.drop([59160])\n",
    "combined.loc[59171,'attribute_category']='top coat'\n",
    "combined=combined.drop([59172])\n",
    "combined=combined.drop([59176])\n",
    "combined=combined.drop([60296])\n",
    "combined.loc[60299,'attribute_category']='jacket sweater'\n",
    "combined=combined.drop([60300])"
   ]
  },
  {
   "cell_type": "code",
   "execution_count": 14,
   "metadata": {
    "ExecuteTime": {
     "end_time": "2021-05-11T14:41:39.360112Z",
     "start_time": "2021-05-11T14:41:39.346644Z"
    },
    "hidden": true
   },
   "outputs": [
    {
     "data": {
      "text/plain": [
       "top                    908\n",
       "bottom                 848\n",
       "shoe                   666\n",
       "onepiece               409\n",
       "accessory              306\n",
       "sweater                277\n",
       "blazerscoatsjackets    254\n",
       "sweatshirthoodie       108\n",
       "top sweatshirt           1\n",
       "top coat                 1\n",
       "jacket sweater           1\n",
       "Name: attribute_category, dtype: int64"
      ]
     },
     "execution_count": 14,
     "metadata": {},
     "output_type": "execute_result"
    }
   ],
   "source": [
    "#check the category from tag document\n",
    "combined.attribute_category.value_counts()"
   ]
  },
  {
   "cell_type": "markdown",
   "metadata": {
    "heading_collapsed": true,
    "hidden": true
   },
   "source": [
    "## Combine Columns for Extracting Tags"
   ]
  },
  {
   "cell_type": "markdown",
   "metadata": {
    "hidden": true
   },
   "source": [
    "Add columns to product dataset by combining original columns that are useful to extract patterns. We will only use the new columns to extract tags."
   ]
  },
  {
   "cell_type": "markdown",
   "metadata": {
    "heading_collapsed": true,
    "hidden": true
   },
   "source": [
    "### For category (first priority)\n",
    "\n",
    " - We will extract \"category\"  first since we need this tag in our recommendation function.\n",
    " - We thought `brand_category` and `name` columns would have the most accurate information to extract category. We will tag category by using the two columns first and for the rest of the data that cannot find category from those two columns, we will use columns such as `details`, `description` to do the extraction."
   ]
  },
  {
   "cell_type": "markdown",
   "metadata": {
    "hidden": true
   },
   "source": [
    "#### Combine `brand_category` and `name` columns"
   ]
  },
  {
   "cell_type": "code",
   "execution_count": 15,
   "metadata": {
    "ExecuteTime": {
     "end_time": "2021-05-11T14:42:11.989637Z",
     "start_time": "2021-05-11T14:42:11.937566Z"
    },
    "hidden": true
   },
   "outputs": [],
   "source": [
    "product['choose_category_1']=product['brand_category'].map(str)+' '+product['name'].map(str)"
   ]
  },
  {
   "cell_type": "markdown",
   "metadata": {
    "hidden": true
   },
   "source": [
    "#### Clean the combined column"
   ]
  },
  {
   "cell_type": "code",
   "execution_count": 16,
   "metadata": {
    "ExecuteTime": {
     "end_time": "2021-05-11T16:08:49.814259Z",
     "start_time": "2021-05-11T16:08:49.553867Z"
    },
    "hidden": true
   },
   "outputs": [
    {
     "data": {
      "text/plain": [
       "61350     SandalsSales BowVida Mule in Black Suede Kidskin\n",
       "61351    Flat sandalsArchives Sandale Vida Mule In Tang...\n",
       "61352    Flat sandalsArchives BowVida Mule in Fuschia S...\n",
       "61353    SandalsSales Vida Mule in Silver Metalized Lea...\n",
       "61354    Flat sandalsArchives BowVida Mule in Bronze Me...\n",
       "Name: choose_category_1, dtype: object"
      ]
     },
     "execution_count": 16,
     "metadata": {},
     "output_type": "execute_result"
    }
   ],
   "source": [
    "for col in ['choose_category_1']:\n",
    "    product[col] = product[col].str.replace('\\n', ' ')\n",
    "    product[col] = product[col].str.replace('\\r', ' ')\n",
    "    product[col] = product[col].str.replace(r'\\\\', '', regex = True)\n",
    "    product[col] = product[col].str.replace(r'[^\\w\\s]|_', ' ', regex = True)\n",
    "    product[col] = product[col].str.replace(r'[0-9]', '', regex = True)\n",
    "product['choose_category_1'].tail()"
   ]
  },
  {
   "cell_type": "code",
   "execution_count": 17,
   "metadata": {
    "ExecuteTime": {
     "end_time": "2021-05-11T16:09:02.435322Z",
     "start_time": "2021-05-11T16:09:02.030635Z"
    },
    "hidden": true
   },
   "outputs": [
    {
     "data": {
      "text/plain": [
       "61350    Sandals Sales  Bow Vida  Mule in  Black  Suede...\n",
       "61351    Flat sandals Archives  Sandale  Vida  Mule  In...\n",
       "61352    Flat sandals Archives  Bow Vida  Mule in  Fusc...\n",
       "61353    Sandals Sales  Vida  Mule in  Silver  Metalize...\n",
       "61354    Flat sandals Archives  Bow Vida  Mule in  Bron...\n",
       "Name: choose_category_1, dtype: object"
      ]
     },
     "execution_count": 17,
     "metadata": {},
     "output_type": "execute_result"
    }
   ],
   "source": [
    "product['choose_category_1'] = product['choose_category_1'].apply(str).apply(lambda x: split_on_uppercase(x, keep_contiguous=True))\n",
    "product['choose_category_1'].tail()"
   ]
  },
  {
   "cell_type": "code",
   "execution_count": 18,
   "metadata": {
    "ExecuteTime": {
     "end_time": "2021-05-11T14:43:52.652709Z",
     "start_time": "2021-05-11T14:42:34.698408Z"
    },
    "hidden": true
   },
   "outputs": [],
   "source": [
    "#lemmatize choose_category_1 column\n",
    "product['lemm_choose_category_1'] = product['choose_category_1'].str.lower().apply(str).apply(lambda x: lemmatize_sentence(x))"
   ]
  },
  {
   "cell_type": "markdown",
   "metadata": {
    "heading_collapsed": true,
    "hidden": true
   },
   "source": [
    "### For catgeory (second priority) and other tags\n",
    "\n",
    "Combine `brand_category`, `name` , `details` ,`description`, `brand_name` columns. The new column will be used to further extract category and all other tags."
   ]
  },
  {
   "cell_type": "markdown",
   "metadata": {
    "hidden": true
   },
   "source": [
    "#### Make location tokens"
   ]
  },
  {
   "cell_type": "code",
   "execution_count": 19,
   "metadata": {
    "ExecuteTime": {
     "end_time": "2021-05-11T14:43:59.745431Z",
     "start_time": "2021-05-11T14:43:59.733251Z"
    },
    "hidden": true
   },
   "outputs": [],
   "source": [
    "# location combos\n",
    "\n",
    "location_tokens = {}\n",
    "location_tokens['new york(?: city)?'] = 'ny'\n",
    "location_tokens['nyc'] = 'ny'\n",
    "location_tokens['the usa'] = 'usa'\n",
    "location_tokens['the united states'] = 'usa'\n",
    "location_tokens['united states(?: of america)?'] = 'usa'\n",
    "location_tokens['los angeles'] = 'la'\n",
    "location_tokens['north carolina'] = 'northcarolina'\n",
    "location_tokens['south carolina'] = 'southcarolina'\n",
    "location_tokens['new jersey'] = 'newjersey'\n",
    "location_tokens['rhode island'] = 'rhodeisland'\n",
    "location_tokens['new hampshire'] = 'newhampshire'\n",
    "location_tokens['west virginia'] = 'westvirginia'\n",
    "location_tokens['north dakota'] = 'northdakota'\n",
    "\n",
    "location_tokens['hong kong'] = 'hongkong'\n",
    "location_tokens['guang zhou'] = 'guangzhou'"
   ]
  },
  {
   "cell_type": "markdown",
   "metadata": {
    "hidden": true
   },
   "source": [
    "#### Combine `brand_category`, `name` , `details` ,`description`, `brand_name` columns, and clean the combined column"
   ]
  },
  {
   "cell_type": "code",
   "execution_count": 20,
   "metadata": {
    "ExecuteTime": {
     "end_time": "2021-05-11T14:44:22.491938Z",
     "start_time": "2021-05-11T14:44:10.429619Z"
    },
    "hidden": true
   },
   "outputs": [
    {
     "data": {
      "text/plain": [
       "61350    sandals sales bow vida mule in black suede kid...\n",
       "61351    flat sandals archives sandale vida mule in tan...\n",
       "61352    flat sandals archives bow vida mule in fuschia...\n",
       "61353    sandals sales vida mule in silver metalized le...\n",
       "61354    flat sandals archives bow vida mule in bronze ...\n",
       "Name: total, dtype: object"
      ]
     },
     "execution_count": 20,
     "metadata": {},
     "output_type": "execute_result"
    }
   ],
   "source": [
    "product['total'] = product['brand_category'].map(str) + ' ' + product['name'].map(str) + ' ' + product['details'].map(str) + ' ' + product['description'].map(str) + ' ' + product['brand_name'].map(str)\n",
    "\n",
    "# clean the total column\n",
    "for col in ['total']:\n",
    "    product[col] = product[col].str.replace('\\n', ' ')\n",
    "    product[col] = product[col].str.replace('\\r', ' ')\n",
    "    product[col] = product[col].str.replace(r'\\\\', '', regex=True)\n",
    "    product[col] = product[col].str.replace(r'[^\\w\\s\\%]|_', ' ', regex=True)\n",
    "\n",
    "product['total'] = product['total'].apply(str).apply(lambda x: split_on_uppercase(\n",
    "    x, keep_contiguous=True)).str.lower().str.replace('nan', ' ').str.replace('  ', ' ').str.replace('  ', ' ')\n",
    "\n",
    "for key in location_tokens:\n",
    "    product['total'] = product['total'].str.replace(\n",
    "        rf'\\b({key})\\b', f'{location_tokens[key]}', regex=True)\n",
    "product['total'].tail()"
   ]
  },
  {
   "cell_type": "code",
   "execution_count": 21,
   "metadata": {
    "ExecuteTime": {
     "end_time": "2021-05-11T14:49:03.384594Z",
     "start_time": "2021-05-11T14:44:26.269890Z"
    },
    "hidden": true
   },
   "outputs": [],
   "source": [
    "#lemmatize total\n",
    "product['lemm_total'] = product['total'].str.lower().apply(str).apply(lambda x: lemmatize_sentence(x))"
   ]
  },
  {
   "cell_type": "code",
   "execution_count": 22,
   "metadata": {
    "ExecuteTime": {
     "end_time": "2021-05-11T14:49:03.494601Z",
     "start_time": "2021-05-11T14:49:03.482116Z"
    },
    "hidden": true
   },
   "outputs": [
    {
     "data": {
      "text/plain": [
       "61350    sandal sale bow vida mule in black suede kidsk...\n",
       "61351    flat sandal archive sandale vida mule in tange...\n",
       "61352    flat sandal archive bow vida mule in fuschia s...\n",
       "61353    sandal sale vida mule in silver metalize leath...\n",
       "61354    flat sandal archive bow vida mule in bronze me...\n",
       "Name: lemm_total, dtype: object"
      ]
     },
     "execution_count": 22,
     "metadata": {},
     "output_type": "execute_result"
    }
   ],
   "source": [
    "product['lemm_total'].tail()"
   ]
  },
  {
   "cell_type": "markdown",
   "metadata": {
    "heading_collapsed": true
   },
   "source": [
    "# Major Feature Processing"
   ]
  },
  {
   "cell_type": "markdown",
   "metadata": {
    "heading_collapsed": true,
    "hidden": true
   },
   "source": [
    "## Category"
   ]
  },
  {
   "cell_type": "markdown",
   "metadata": {
    "heading_collapsed": true,
    "hidden": true
   },
   "source": [
    "### Define Pattern for Each Category\n",
    "- only use simple words since column is cleaned/lemmatized"
   ]
  },
  {
   "cell_type": "code",
   "execution_count": 23,
   "metadata": {
    "ExecuteTime": {
     "end_time": "2021-05-11T14:49:29.600645Z",
     "start_time": "2021-05-11T14:49:29.583680Z"
    },
    "hidden": true
   },
   "outputs": [],
   "source": [
    "top_re=r'\\b(top|shirt|tee|blouse|tank|tshirt|knitwear|vest|camisole|overshirt|long sleeve|v neck|tunic|turtleneck|shell|sleeve|polo|cami|slvls|vneck|shrt|pckt t|crew|sleeveless|sweatshirt|longsleeve|hoodie|pullover|sweat|crewneck|pullovr|swtshrt|sweater|cardigan|knitwear|swtr)\\b'\n",
    "outwear_re = r'\\b(jacket|coat|blazer|outerwear|trench|parka|anorak|puffer|overcoat|topcoat|bomber|trucker|jckt|blazr|jkt)\\b'\n",
    "bottom_re = r'\\b(jean|pant|jogger|skirt|short|trouser|legging|leg|skort|bottom|low straight|loose straight|straight fit|loose fit|relax straight|relaxed straight|vintage straight|slim taper|sweatpants?|miniskirt|culotte|bootcut|dojo|crop|skinny|stretch denim|slimmy|high rise|low rise|mid rise|garment|paxtyn|ankle|denim slimmy|high waist|flare|skny|exaggerate kick)\\b'\n",
    "shoe_re = r'\\b(sandal|booty|shoe|sneaker|boot|pump|flat|heel|bootie|mule|espadrille|oxford|loafer|slipper|flip flop|clog|derby|slip on|wedge|slide|nappa|leather upper)\\b'\n",
    "onepiece_re = r'\\b(dress|jumpsuit|shirtdress|dressesandjumpsuits?|bodysuit|housedress|rompers?|kimono|robe|one piece|onepiece|minidress|denim set|pj set|short set|lounge set|sleep set|cami set|trouser set|pajama set|pc set|bra set|slipdress|pantsuit|shirtdress|raincoat|caftan|suit|slip|jump|jumpsut)\\b'\n",
    "accessory_re = r'\\b(bags?|tote|crossbody|handbags?|belt|tie|accessory|ladybag|backpack|gymsack|cardholder|glove|wristlet|sunglass|satchel|leash|laptop|camera|jewelry|wallet|eyewear|scarf|scarves|clutch|poncho|calendar|bangle|keychain|mat|postcard|tumbler|pouch|hobo|hat|earring|barrette|haircalf|box|cape|mask|mitt|sock|wrap|jasper|bracelet|necklace|scrunchie|biker|millinery|card|fedora|felt|pack|napkin|shawl|hook|chain|spray|diffuser|brim|cap|blanket|josefina|bottle|basket|eye|extérieure|paint|mousse|glass|collection|acrylic|accessory|clip|beanie|beret)\\b'\n",
    "underwear_re = r'\\b(bra|underwear|bralett|bralette|thong|panty|underwire|brakini)\\b'\n",
    "othercloth_re=r'\\b(wears?|classic fit|regular fit|denim|cloth|othercloth)\\b'\n",
    "home_re=r'\\b(candle|vase|mug|pot|chair|mist|towel|lamp|glasswear|plate|pillow|table|coverlet|sofa|bed|desk|bowl|dish|bath|jar|soap|handwoven|chèvre|wash|home)\\b'\n",
    "cosmetics_re=r'\\b(sanitizer|cream|lip|oil|perfume|perfum|nail)\\b'\n",
    "book_re=r'\\b(books?|lookbook|workbook)\\b'\n",
    "archive_re=r'\\barchive\\b'"
   ]
  },
  {
   "cell_type": "markdown",
   "metadata": {
    "heading_collapsed": true,
    "hidden": true
   },
   "source": [
    "### Find Detailed Category - One/Multiple for Each Product\n",
    "\n",
    "- Extract detailed category such as blouse,tank and coat. Each product may have more than one detailed categories."
   ]
  },
  {
   "cell_type": "code",
   "execution_count": 24,
   "metadata": {
    "ExecuteTime": {
     "end_time": "2021-05-11T14:49:39.750593Z",
     "start_time": "2021-05-11T14:49:39.702511Z"
    },
    "hidden": true
   },
   "outputs": [],
   "source": [
    "def detialedCategory_tag(txt):\n",
    "    val = []\n",
    "    txt = str(txt)\n",
    "    if re.findall(shoe_re, txt, re.IGNORECASE ):\n",
    "        val = re.findall(shoe_re, txt, re.IGNORECASE )\n",
    "    elif re.findall(onepiece_re, txt, re.IGNORECASE ):\n",
    "        val = re.findall(onepiece_re, txt, re.IGNORECASE )\n",
    "    elif re.findall(bottom_re, txt, re.IGNORECASE ):\n",
    "        val = re.findall(bottom_re, txt, re.IGNORECASE )\n",
    "    elif re.findall(top_re, txt, re.IGNORECASE ):\n",
    "        val = re.findall(top_re, txt, re.IGNORECASE )\n",
    "    elif re.findall(outwear_re, txt, re.IGNORECASE ):\n",
    "        val = re.findall(outwear_re, txt, re.IGNORECASE )\n",
    "    elif re.findall(underwear_re, txt, re.IGNORECASE ):\n",
    "        val = re.findall(underwear_re, txt, re.IGNORECASE )\n",
    "    elif re.findall(accessory_re, txt, re.IGNORECASE ):\n",
    "        val = re.findall(accessory_re, txt, re.IGNORECASE )\n",
    "    #find other clothing after search above categories\n",
    "    elif re.findall(othercloth_re, txt, re.IGNORECASE ):\n",
    "        val = ['othercloth']\n",
    "    elif re.findall(home_re, txt, re.IGNORECASE ):\n",
    "        val = re.findall(home_re, txt, re.IGNORECASE )\n",
    "    elif re.findall(cosmetics_re, txt, re.IGNORECASE ):\n",
    "        val = re.findall(cosmetics_re, txt, re.IGNORECASE )\n",
    "    elif re.findall(book_re, txt, re.IGNORECASE ):\n",
    "        val = re.findall(book_re, txt, re.IGNORECASE )\n",
    "    elif re.findall(archive_re, txt, re.IGNORECASE ):\n",
    "        val = re.findall(archive_re, txt, re.IGNORECASE )\n",
    "    else:\n",
    "        val=['unknow']\n",
    "    return ' '.join(val)"
   ]
  },
  {
   "cell_type": "code",
   "execution_count": 25,
   "metadata": {
    "ExecuteTime": {
     "end_time": "2021-05-11T14:49:50.593878Z",
     "start_time": "2021-05-11T14:49:43.084274Z"
    },
    "hidden": true
   },
   "outputs": [],
   "source": [
    "# first priority - more accurate to find category\n",
    "product['detailed_category'] = product['lemm_choose_category_1'].apply(lambda x: detialedCategory_tag(x))\n",
    "# second priority - less accurate but still usefull\n",
    "for i in product[product['detailed_category'] == 'unknow'].index:\n",
    "    product.loc[i, 'detailed_category'] = detialedCategory_tag(product.loc[i, 'lemm_total'])"
   ]
  },
  {
   "cell_type": "code",
   "execution_count": 26,
   "metadata": {
    "ExecuteTime": {
     "end_time": "2021-05-11T14:49:50.925254Z",
     "start_time": "2021-05-11T14:49:50.673415Z"
    },
    "hidden": true
   },
   "outputs": [],
   "source": [
    "#remove duplicated words in detailed_category column\n",
    "product[\"detailed_category\"]=product[\"detailed_category\"].str.split(\" \").map(collections.OrderedDict.fromkeys).str.join(\" \")"
   ]
  },
  {
   "cell_type": "markdown",
   "metadata": {
    "heading_collapsed": true,
    "hidden": true
   },
   "source": [
    "### Find General Category - Only One for Each Product\n",
    "\n",
    "- Extract general category such as top, bottom and onepiece. Each product only has one general category."
   ]
  },
  {
   "cell_type": "code",
   "execution_count": 27,
   "metadata": {
    "ExecuteTime": {
     "end_time": "2021-05-11T14:49:54.719951Z",
     "start_time": "2021-05-11T14:49:54.693999Z"
    },
    "hidden": true
   },
   "outputs": [],
   "source": [
    "def generalCategory(txt):  \n",
    "    txt = str(txt)\n",
    "    val = np.nan\n",
    "    if re.search(shoe_re, txt, re.IGNORECASE ):\n",
    "        val = \"shoe\"\n",
    "    elif re.search(onepiece_re, txt, re.IGNORECASE ):\n",
    "        val = \"onepiece\"    \n",
    "    elif re.search(bottom_re, txt, re.IGNORECASE ):\n",
    "        val = \"bottom\"\n",
    "    elif re.search(top_re, txt, re.IGNORECASE ):\n",
    "        val = \"top\"\n",
    "    elif re.search(outwear_re, txt, re.IGNORECASE ):\n",
    "        val = \"outwear\"\n",
    "    elif re.search(underwear_re, txt, re.IGNORECASE ):\n",
    "        val = \"underwear\"\n",
    "    elif re.findall(othercloth_re, txt, re.IGNORECASE ):\n",
    "        val = \"othercloth\"\n",
    "    elif re.search(accessory_re, txt, re.IGNORECASE ):\n",
    "        val = \"accessory\"\n",
    "    elif re.search(home_re, txt, re.IGNORECASE ):\n",
    "        val = \"home\"\n",
    "    elif re.search(cosmetics_re, txt, re.IGNORECASE ):\n",
    "        val = \"cosmetics\"\n",
    "    elif re.search(book_re, txt, re.IGNORECASE ):\n",
    "        val = \"book\"\n",
    "    elif re.search(archive_re, txt, re.IGNORECASE ):\n",
    "        val = \"archive\"\n",
    "    else:\n",
    "        val = \"unknow\"\n",
    "    return val"
   ]
  },
  {
   "cell_type": "code",
   "execution_count": 28,
   "metadata": {
    "ExecuteTime": {
     "end_time": "2021-05-11T14:49:56.401084Z",
     "start_time": "2021-05-11T14:49:55.978699Z"
    },
    "hidden": true
   },
   "outputs": [],
   "source": [
    "product['general_category']=product['detailed_category'].apply(lambda x: generalCategory(x))"
   ]
  },
  {
   "cell_type": "markdown",
   "metadata": {
    "heading_collapsed": true,
    "hidden": true
   },
   "source": [
    "## Gender\n",
    "\n",
    "- Extract gender such as man, woman, boy, girl and baby. Each product only has one gender."
   ]
  },
  {
   "cell_type": "code",
   "execution_count": 29,
   "metadata": {
    "ExecuteTime": {
     "end_time": "2021-05-11T14:50:00.106539Z",
     "start_time": "2021-05-11T14:50:00.093552Z"
    },
    "hidden": true
   },
   "outputs": [],
   "source": [
    "# define the pattern of gender\n",
    "man_pattern=r'\\b(?:grand(?:pas?|fathers?)|sons?|males?|fathers?|dads?|dadd(?:y|ies)|pa(?:pas?)?|man|men|husbands?|uncles?|brothers?|bros?|nephews?|boyfriends?)\\b'\n",
    "woman_pattern=r'\\b(?:grand(?:mas?|mothers?)|daughters?|feminines?|females?|mothers?|woman|women|moms?|momm(?:y|ies)|ma(?:mas?)?|wi(?:fe|ves)|aunts?|aunt(?:y|ies?)|sisters?|nieces?|girlfriends?|skirts?|dress|minidress|miniskirts?)\\b'\n",
    "boy_pattern=r'\\b(boys?|grandsons?)\\b'\n",
    "girl_pattern=r'\\b(granddaughters?|girls?)\\b'\n",
    "baby_pattern=r'\\b(baby|babies)\\b'\n",
    "\n",
    "def Gender(txt):\n",
    "    txt = str(txt)\n",
    "    val = np.nan\n",
    "    if re.search(man_pattern, txt, re.IGNORECASE ):\n",
    "        val = 'man'\n",
    "    elif re.search(woman_pattern, txt, re.IGNORECASE ):\n",
    "        val = 'woman'\n",
    "    elif re.search(boy_pattern, txt, re.IGNORECASE ):\n",
    "        val = 'boy'\n",
    "    elif re.search(girl_pattern, txt, re.IGNORECASE ):\n",
    "        val = 'girl'\n",
    "    elif re.search(baby_pattern, txt, re.IGNORECASE ):\n",
    "        val = 'baby'\n",
    "    return val"
   ]
  },
  {
   "cell_type": "code",
   "execution_count": 30,
   "metadata": {
    "ExecuteTime": {
     "end_time": "2021-05-11T14:50:06.301754Z",
     "start_time": "2021-05-11T14:50:01.824731Z"
    },
    "hidden": true
   },
   "outputs": [],
   "source": [
    "product['gender']=product['lemm_total'].apply(lambda x: Gender(x))"
   ]
  },
  {
   "cell_type": "code",
   "execution_count": 31,
   "metadata": {
    "ExecuteTime": {
     "end_time": "2021-05-11T14:50:08.253480Z",
     "start_time": "2021-05-11T14:50:08.244504Z"
    },
    "hidden": true
   },
   "outputs": [
    {
     "data": {
      "text/plain": [
       "18577"
      ]
     },
     "execution_count": 31,
     "metadata": {},
     "output_type": "execute_result"
    }
   ],
   "source": [
    "product['gender'].notnull().sum()"
   ]
  },
  {
   "cell_type": "markdown",
   "metadata": {
    "heading_collapsed": true,
    "hidden": true
   },
   "source": [
    "## Season\n",
    "\n",
    "- Extract season such as spring, summer, fall, and winter. Each product only has one season."
   ]
  },
  {
   "cell_type": "code",
   "execution_count": 32,
   "metadata": {
    "ExecuteTime": {
     "end_time": "2021-05-11T14:50:12.596664Z",
     "start_time": "2021-05-11T14:50:12.583496Z"
    },
    "hidden": true
   },
   "outputs": [],
   "source": [
    "# define the pattern of the season\n",
    "spring_pattern=r'\\b(springs?|springtimes?|march|april|may)\\b'\n",
    "summer_pattern=r'\\b(summers?|summertimes?|june|july|august)\\b'\n",
    "fall_pattern=r'\\b(falls?|falltimes?|autumns?|september|october|november)\\b'\n",
    "winter_pattern=r'\\b(winters?|wintertimes?|december|january|february)\\b'\n",
    "\n",
    "def Season(txt):\n",
    "    txt = str(txt)\n",
    "    val = np.nan\n",
    "    if re.search(spring_pattern, txt, re.IGNORECASE ):\n",
    "        val = 'spring'\n",
    "    elif re.search(summer_pattern, txt, re.IGNORECASE ):\n",
    "        val = 'summer'\n",
    "    elif re.search(fall_pattern, txt, re.IGNORECASE ):\n",
    "        val = 'fall'\n",
    "    elif re.search(winter_pattern, txt, re.IGNORECASE ):\n",
    "        val = 'winter'\n",
    "    return val"
   ]
  },
  {
   "cell_type": "code",
   "execution_count": 33,
   "metadata": {
    "ExecuteTime": {
     "end_time": "2021-05-11T14:50:17.491725Z",
     "start_time": "2021-05-11T14:50:14.157251Z"
    },
    "hidden": true
   },
   "outputs": [],
   "source": [
    "product['season']=product['lemm_total'].apply(lambda x: Season(x))"
   ]
  },
  {
   "cell_type": "code",
   "execution_count": 34,
   "metadata": {
    "ExecuteTime": {
     "end_time": "2021-05-11T14:50:19.547072Z",
     "start_time": "2021-05-11T14:50:19.538095Z"
    },
    "hidden": true
   },
   "outputs": [
    {
     "data": {
      "text/plain": [
       "6924"
      ]
     },
     "execution_count": 34,
     "metadata": {},
     "output_type": "execute_result"
    }
   ],
   "source": [
    "product['season'].notnull().sum()"
   ]
  },
  {
   "cell_type": "markdown",
   "metadata": {
    "heading_collapsed": true,
    "hidden": true
   },
   "source": [
    "## Other Tags\n",
    "\n",
    "- Extract more tags such locations, colors, sizing, style etc. Each product may have more than one values for the same tag."
   ]
  },
  {
   "cell_type": "code",
   "execution_count": 35,
   "metadata": {
    "ExecuteTime": {
     "end_time": "2021-05-11T14:51:39.105616Z",
     "start_time": "2021-05-11T14:51:39.093623Z"
    },
    "hidden": true
   },
   "outputs": [],
   "source": [
    "# define patterns for each tags\n",
    "# these regex patterns come from attribute_name2.csv\n",
    "attributes_regex = {}\n",
    "attributes_regex['class'] = 'fanny packs?|business casuals?|ballets?|trench(?:es)?|vests?|ponchos?|double prongs?|backpacks?|booty|booties|denims?|western cowboy|mules?|5 pocket pant non denim|flip flops?|slingbacks?|slits?|hooded|chelsea|dorsay|backless|beach bags?|loafers?|high tops?|wraps?|paper bag waists?|hobo bags?|skorts?|parka puffers?|slides?|cheeky|tshirts?|dress(?:es)?|bikes?|high low|sundress|track pants?|overcoats?|lace up|bomber varsity|casual dress(?:es)?|distressed|drop waists?|low tops?|bucket bags?|oxfords?|tiered|ankle trap|empire waists?|tennis|training|pleated|pullovers?|teddy|quilted|body cons?|cateye|designers?|peplums?|motos?|laptops?|leggings?|cargos?|pool slides?|asymmetrical|briefcases?|trousers?|motorcycles?|active|belt bags?|trapeze swings?|slip on|military utility|windbreakers?|peep toes?|shirts?|jackets?|pencil|oval|sheaths?|business casual dress(?:es)?|pea coats?|bermuda|aviator teardrops?|shoulder bags?|slips?|sweatpants?|shearling|casual|double breasted|slouch|dress(?:es)?|mary jane|trucker|faux fur|capes?|denim jeans?|logos?|chino khakis?|joggers?|satchels?|maxi|midi|mini|dad sneaker platform|dusters?|anoraks?|raincoats?|full|culotte|platforms?|rectangular|lace tops?|rain|button up|slip dress(?:es)?|cutoff|moccasin|pull ons?|wallet card cases?|blazer dress(?:es)?|strappy|tote bags?|active tracks?|socks?|clutch(?:es)?|pouch(?:es)?|shirt dress(?:es)?|aline|oversized|casual shorts?|single breasted|espadrilles?|cross body bags?|aviator squares?|shift|sweater dress(?:es)?|combats?'\n",
    "attributes_regex['closure'] = 'back ties?|zip fly with hooks?|belted|ties?|back zips?|button fronts?|wraps?|laces?|open|back zippers?|zippers?|magnetics?|front zip with hooks?|halfway zippers?|hook and loops?|twisteds?|tie fronts?|drawstrings?|open fronts?|belts?|zip fly with buttons?|hooks?|locks?|front zip with buttons?|buttoned fronts?|snaps?|flaps?|buttoned backs?|straps?|front ties?|side zips?|ankle traps?|Hook eyes?|tiebacks?|slingbacks?|14 zips?|front zips?|velcros?|halfway buttoned|zip ups?|tie necks?|clasps?|buckles?'\n",
    "attributes_regex['color'] = 'beige|black|blue|light brown|dark brown|brown|burgundy|gold|gray|grey|green|multi|navy|neutral|orange|pink|purple|red|silver|teal|white|yellow'\n",
    "attributes_regex['dry_clean_only'] = 'yes|no'\n",
    "attributes_regex['embellishment'] = 'patch(?:es)?|trims?|beaded|rhinestones?|fringes?|studs?|crystals?|epaulets?|mesh(?:es)?|sequins?|embroider(?:y|ies)|laces?|ruffles?|buckles?'\n",
    "attributes_regex['exposure'] = 'closed toes?|open toes?|peep toes?'\n",
    "attributes_regex['fit'] = 'fitted tailored|semifitted|straight regular|oversized|relaxed|tight'\n",
    "attributes_regex['height'] = 'thigh high|knee high|over the knees?|flats?|low|high|mid calf|medium|ankles?'\n",
    "attributes_regex['leg_style'] = 'boyfriends?|flares?|wide legs?|skinny|straight|baggy|boot cuts?|slim|'\n",
    "attributes_regex['length'] = 'capris?|cropped|short sleeves?|midi mid calf|knee length|high low|sleeveless|cropped above waistlines?|short above the knees?|mid 510|short 35|ankles?|very short 3|maxi at and below calf|regular|shorts?|mid calf|sleeves?|mini mid thigh and above|long below hips?|long sleeves?|short at waistlines?|cap sleeves?|long 10|maxi past calf and below|mid length at hips?|tall'\n",
    "attributes_regex['neckline'] = 'scoop necks?|halters?|cowl necks?|asymmetricals?|mandarin collars?|one shoulders?|off shoulders?|straplesss?|cold shoulders?|straights?|vnecks?|high necks?|sweethearts?|split necks?|henleys?|keyholes?|drapeds?|mock necks?|collareds?|plunge necks?|turtlenecks?|surplices?|funnels?|shawl collars?|pussy bows?|boat necks?|square necks?|tie necks?|band collars?|jewels?|crew necks?'\n",
    "attributes_regex['occasion'] = 'works?|night outs?|cold weathers?|weekends?|day tonights?|vacations?|workouts?'\n",
    "attributes_regex['pattern'] = 'stripe verticals?|plaids?|animals?|monograms?|dots?|logos?|multi prints?|camouflages?|paisleys?|houndstooths?|geometrics?|abstracts?|stripes?|florals?|tiedyes?|graphics?|tropicals?|color blocks?|pinstripes?|stripe horizontals?'\n",
    "attributes_regex['shape'] = 'wedges?|stilettos?|platform flatforms?|wides?|inward curves?|monograms?|blocks?|raised soles?|ovals?|cones?|rectangles?|kittens?'\n",
    "attributes_regex['sheer'] = 'sheers?|semisheers?'\n",
    "attributes_regex['sizing'] = 'regular|tall|plus|maternity'\n",
    "attributes_regex['strap'] = 'metals?|adjustables?|canvass?|spaghettis?|suedes?|leathers?|synthetics?|pure cottons?|elastic stretchs?|cotton blends?|faux leathers?'\n",
    "attributes_regex['style'] = 'boho|classic|business casual|casual|glam|edgy|retro|athleisure|modern|romantic|androgynous|'\n",
    "attributes_regex['toe_style'] = 'pointed toes?|peep toes?|open toes?|closed toes?|round toes?|square toes?'\n",
    "attributes_regex['trend'] = 'patch|trims?|distressed|coated|clean|raw hems?'\n",
    "attributes_regex['wash'] = 'acids?|blacks?|raws?|dark blues?|light blues?|denims?|whites?|Greys?|medium blues?'\n",
    "attributes_regex['width'] = 'skinny up to 1|narrow|medium'\n"
   ]
  },
  {
   "cell_type": "code",
   "execution_count": null,
   "metadata": {
    "ExecuteTime": {
     "end_time": "2021-05-11T14:52:15.462021Z",
     "start_time": "2021-05-11T14:51:49.365823Z"
    },
    "hidden": true
   },
   "outputs": [],
   "source": [
    "def remove_duplicates(lst):\n",
    "    '''removes the duplicates in a list'''\n",
    "    return list(set(lst))\n",
    "\n",
    "# remove duplicated values in each tags\n",
    "for key in attributes_regex:\n",
    "    product[key] = product.lemm_total.str.findall(rf\"\\b({attributes_regex[key]})\\b\").apply(remove_duplicates)"
   ]
  },
  {
   "cell_type": "code",
   "execution_count": null,
   "metadata": {
    "ExecuteTime": {
     "end_time": "2021-05-11T14:52:17.780344Z",
     "start_time": "2021-05-11T14:52:15.753055Z"
    },
    "hidden": true
   },
   "outputs": [],
   "source": [
    "# Extract manufacturing location \n",
    "product['location'] = product['total'].str.extract(r'made in (?P<location>\\w+)')\n",
    "# Extract materials and its percentage (if any)\n",
    "product[['material_percent', 'material']] = product['description'].str.extract(r'\\b(?P<percent>\\d+\\%)? ?(?P<materials>linen blends?|metals?|lyocells?|chiffons?|faux furs?|satin charmeuses?|calf hairs?|cashmere blends?|spandexs?|jersey knits?|alpacas?|pure wools?|twills?|synthetics?|pure cottons?|silk blends?|faux leathers?|rayons?|tweeds?|nylons?|canvass?|pony hairs?|viscoses?|wool blends?|denims?|golds?|suedes?|silks?|cupros?|wools?|fleeces?|chenilles?|brasss?|acetates?|pure cashmeres?|acrylics?|crepe de chines?|pure linens?|pure silks?|elastanes?|techs?|raffias?|faux shearlings?|corduroys?|snakeskins?|cotton blends?|shearlings?|linens?|modals?|velvets?|plastics?|mohairs?|beadeds?|chambrays?|polyesters?|sateens?|ramies?|silvers?|leathers?|straws?|patent leathers?|rhinestone|polyamides?|poly chiffon|lurex)\\b')"
   ]
  },
  {
   "cell_type": "code",
   "execution_count": null,
   "metadata": {
    "ExecuteTime": {
     "end_time": "2021-05-11T14:52:20.850966Z",
     "start_time": "2021-05-11T14:52:19.402768Z"
    },
    "hidden": true
   },
   "outputs": [],
   "source": [
    "# Extract brand specific words (we looked at the top 30 brands' description and found that these words might be \n",
    "# unique to only one/some of them)\n",
    "brand_features = 'vintage|lightweight|maison louis marie|boy smells|edgy|playful|lush|chic|sustainable|environmentally friendly|need help chat with us|dry clean|hand wash|machine wash|grown in ghana|hand batiking studio|handwoven|french|neoprene|fiberlite|our journey|organic|social and environmental accountability|planet|special collaboration|artist|handmade|classic|vegan|luxe|bestselling|sara ekua todd|opening ceremony|ancient greek|tie dye'\n",
    "product['brand_specific'] = product['total'].str.findall(rf'\\b({brand_features})\\b').apply(remove_duplicates)"
   ]
  },
  {
   "cell_type": "markdown",
   "metadata": {
    "hidden": true
   },
   "source": [
    "Tags are saved in list format for \"other_tags\". We want to convert the list format to words."
   ]
  },
  {
   "cell_type": "code",
   "execution_count": null,
   "metadata": {
    "ExecuteTime": {
     "end_time": "2021-05-11T14:52:26.390537Z",
     "start_time": "2021-05-11T14:52:26.374459Z"
    },
    "hidden": true
   },
   "outputs": [],
   "source": [
    "other_features = product.columns[product.columns.get_loc('class'):]\n",
    "other_features"
   ]
  },
  {
   "cell_type": "code",
   "execution_count": null,
   "metadata": {
    "ExecuteTime": {
     "end_time": "2021-05-11T14:52:28.559227Z",
     "start_time": "2021-05-11T14:52:28.444509Z"
    },
    "hidden": true
   },
   "outputs": [],
   "source": [
    "# only keep features columns\n",
    "features = product.set_index('product_id')\n",
    "features = features.iloc[:,product.columns.get_loc('lemm_total')-1:]"
   ]
  },
  {
   "cell_type": "code",
   "execution_count": null,
   "metadata": {
    "ExecuteTime": {
     "end_time": "2021-05-11T14:52:30.543568Z",
     "start_time": "2021-05-11T14:52:30.527791Z"
    },
    "hidden": true
   },
   "outputs": [],
   "source": [
    "#convert list format to words\n",
    "def list_to_word(x):\n",
    "    if (type(x) != list and type(x)!= str):\n",
    "        return np.nan\n",
    "    elif type(x) == list:\n",
    "        if x == []:\n",
    "            return np.nan\n",
    "        else:\n",
    "            return ' '.join(x)\n",
    "    elif type(x) == str:\n",
    "        return x"
   ]
  },
  {
   "cell_type": "code",
   "execution_count": null,
   "metadata": {
    "ExecuteTime": {
     "end_time": "2021-05-11T14:52:33.644402Z",
     "start_time": "2021-05-11T14:52:33.049390Z"
    },
    "hidden": true
   },
   "outputs": [],
   "source": [
    "for column in other_features:\n",
    "    features[column] = features[column].apply(list_to_word)"
   ]
  },
  {
   "cell_type": "code",
   "execution_count": null,
   "metadata": {
    "ExecuteTime": {
     "end_time": "2021-05-11T14:52:34.952748Z",
     "start_time": "2021-05-11T14:52:34.927796Z"
    },
    "hidden": true
   },
   "outputs": [],
   "source": [
    "features.head(2)"
   ]
  },
  {
   "cell_type": "markdown",
   "metadata": {
    "heading_collapsed": true,
    "hidden": true
   },
   "source": [
    "## Create a column for all the features \n",
    "\n",
    "- Combined all the tags first and then add the `lemm_total` column in the end, in case the product does not have enough tags."
   ]
  },
  {
   "cell_type": "code",
   "execution_count": null,
   "metadata": {
    "ExecuteTime": {
     "end_time": "2021-05-11T14:52:39.990316Z",
     "start_time": "2021-05-11T14:52:39.979730Z"
    },
    "hidden": true
   },
   "outputs": [],
   "source": [
    "all_features_except_total = product.columns[product.columns.get_loc('lemm_total')+1:]\n",
    "all_features_except_total"
   ]
  },
  {
   "cell_type": "code",
   "execution_count": null,
   "metadata": {
    "ExecuteTime": {
     "end_time": "2021-05-11T14:52:47.286093Z",
     "start_time": "2021-05-11T14:52:46.195456Z"
    },
    "hidden": true
   },
   "outputs": [],
   "source": [
    "# combine all the tags\n",
    "features['all_features'] = np.nan\n",
    "for column in all_features_except_total:\n",
    "    features['all_features'] = features['all_features'].map(str) + ' ' + features[column].map(str)"
   ]
  },
  {
   "cell_type": "code",
   "execution_count": null,
   "metadata": {
    "ExecuteTime": {
     "end_time": "2021-05-11T14:52:52.251542Z",
     "start_time": "2021-05-11T14:52:51.787244Z"
    },
    "hidden": true
   },
   "outputs": [],
   "source": [
    "# add lemm_total to combined feature\n",
    "features['all_features'] = features['all_features'] + ' ' + features['lemm_total']\n",
    "features['all_features'] = features['all_features'].str.replace('nan', ' ').str.replace('  ', ' ')\n",
    "features.head(3)"
   ]
  },
  {
   "cell_type": "markdown",
   "metadata": {},
   "source": [
    "# Final data \n",
    "\n",
    "Our final feature data includes the following: \n",
    "- **`lemm_total`:** cleaned data by combining `brand_category` + `name` + `details` + `description` + `brand_name`\n",
    "- **`detailed_category`, `general_category`,`gender`, ......, `brand_specific`** : different types of tags\n",
    "- **`all_features`:** all tags + `lemm_total`"
   ]
  },
  {
   "cell_type": "code",
   "execution_count": null,
   "metadata": {
    "ExecuteTime": {
     "end_time": "2021-05-11T14:53:09.726689Z",
     "start_time": "2021-05-11T14:53:09.637419Z"
    }
   },
   "outputs": [],
   "source": [
    "features.info()"
   ]
  },
  {
   "cell_type": "code",
   "execution_count": null,
   "metadata": {
    "ExecuteTime": {
     "end_time": "2021-05-10T22:57:07.377319Z",
     "start_time": "2021-05-10T22:57:07.371454Z"
    }
   },
   "outputs": [],
   "source": [
    "features.to_csv('all_features.csv')"
   ]
  }
 ],
 "metadata": {
  "kernelspec": {
   "display_name": "Python 3",
   "language": "python",
   "name": "python3"
  },
  "language_info": {
   "codemirror_mode": {
    "name": "ipython",
    "version": 3
   },
   "file_extension": ".py",
   "mimetype": "text/x-python",
   "name": "python",
   "nbconvert_exporter": "python",
   "pygments_lexer": "ipython3",
   "version": "3.8.3"
  },
  "toc": {
   "base_numbering": 1,
   "nav_menu": {},
   "number_sections": true,
   "sideBar": true,
   "skip_h1_title": false,
   "title_cell": "Create Tags/Features",
   "title_sidebar": "Contents",
   "toc_cell": true,
   "toc_position": {
    "height": "calc(100% - 180px)",
    "left": "10px",
    "top": "150px",
    "width": "165px"
   },
   "toc_section_display": true,
   "toc_window_display": false
  },
  "varInspector": {
   "cols": {
    "lenName": 16,
    "lenType": 16,
    "lenVar": 40
   },
   "kernels_config": {
    "python": {
     "delete_cmd_postfix": "",
     "delete_cmd_prefix": "del ",
     "library": "var_list.py",
     "varRefreshCmd": "print(var_dic_list())"
    },
    "r": {
     "delete_cmd_postfix": ") ",
     "delete_cmd_prefix": "rm(",
     "library": "var_list.r",
     "varRefreshCmd": "cat(var_dic_list()) "
    }
   },
   "types_to_exclude": [
    "module",
    "function",
    "builtin_function_or_method",
    "instance",
    "_Feature"
   ],
   "window_display": false
  }
 },
 "nbformat": 4,
 "nbformat_minor": 4
}
